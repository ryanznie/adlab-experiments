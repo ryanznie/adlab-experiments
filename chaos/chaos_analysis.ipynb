{
 "cells": [
  {
   "cell_type": "code",
   "execution_count": 1,
   "metadata": {},
   "outputs": [],
   "source": [
    "import pandas as pd\n",
    "import matplotlib.pyplot as plt\n",
    "import numpy as np"
   ]
  },
  {
   "cell_type": "code",
   "execution_count": 122,
   "metadata": {},
   "outputs": [
    {
     "data": {
      "text/html": [
       "<div>\n",
       "<style scoped>\n",
       "    .dataframe tbody tr th:only-of-type {\n",
       "        vertical-align: middle;\n",
       "    }\n",
       "\n",
       "    .dataframe tbody tr th {\n",
       "        vertical-align: top;\n",
       "    }\n",
       "\n",
       "    .dataframe thead th {\n",
       "        text-align: right;\n",
       "    }\n",
       "</style>\n",
       "<table border=\"1\" class=\"dataframe\">\n",
       "  <thead>\n",
       "    <tr style=\"text-align: right;\">\n",
       "      <th></th>\n",
       "      <th>sensor1</th>\n",
       "      <th>sensor2</th>\n",
       "    </tr>\n",
       "  </thead>\n",
       "  <tbody>\n",
       "    <tr>\n",
       "      <th>0</th>\n",
       "      <td>5</td>\n",
       "      <td>5</td>\n",
       "    </tr>\n",
       "    <tr>\n",
       "      <th>1</th>\n",
       "      <td>5</td>\n",
       "      <td>5</td>\n",
       "    </tr>\n",
       "    <tr>\n",
       "      <th>2</th>\n",
       "      <td>5</td>\n",
       "      <td>5</td>\n",
       "    </tr>\n",
       "    <tr>\n",
       "      <th>3</th>\n",
       "      <td>5</td>\n",
       "      <td>5</td>\n",
       "    </tr>\n",
       "    <tr>\n",
       "      <th>4</th>\n",
       "      <td>5</td>\n",
       "      <td>5</td>\n",
       "    </tr>\n",
       "    <tr>\n",
       "      <th>...</th>\n",
       "      <td>...</td>\n",
       "      <td>...</td>\n",
       "    </tr>\n",
       "    <tr>\n",
       "      <th>99995</th>\n",
       "      <td>5</td>\n",
       "      <td>5</td>\n",
       "    </tr>\n",
       "    <tr>\n",
       "      <th>99996</th>\n",
       "      <td>5</td>\n",
       "      <td>5</td>\n",
       "    </tr>\n",
       "    <tr>\n",
       "      <th>99997</th>\n",
       "      <td>5</td>\n",
       "      <td>5</td>\n",
       "    </tr>\n",
       "    <tr>\n",
       "      <th>99998</th>\n",
       "      <td>5</td>\n",
       "      <td>5</td>\n",
       "    </tr>\n",
       "    <tr>\n",
       "      <th>99999</th>\n",
       "      <td>5</td>\n",
       "      <td>5</td>\n",
       "    </tr>\n",
       "  </tbody>\n",
       "</table>\n",
       "<p>100000 rows × 2 columns</p>\n",
       "</div>"
      ],
      "text/plain": [
       "       sensor1  sensor2\n",
       "0            5        5\n",
       "1            5        5\n",
       "2            5        5\n",
       "3            5        5\n",
       "4            5        5\n",
       "...        ...      ...\n",
       "99995        5        5\n",
       "99996        5        5\n",
       "99997        5        5\n",
       "99998        5        5\n",
       "99999        5        5\n",
       "\n",
       "[100000 rows x 2 columns]"
      ]
     },
     "execution_count": 122,
     "metadata": {},
     "output_type": "execute_result"
    }
   ],
   "source": [
    "df = pd.read_csv('test4.txt', sep=',', header=None)\n",
    "df.columns = ['sensor1', 'sensor2']\n",
    "df"
   ]
  },
  {
   "cell_type": "code",
   "execution_count": 123,
   "metadata": {},
   "outputs": [
    {
     "name": "stdout",
     "output_type": "stream",
     "text": [
      "[5 0 4 3 2]\n",
      "[5 0 4 3 1]\n",
      "[1 0]\n",
      "[1 0]\n",
      "[0 1]\n",
      "[0 1]\n"
     ]
    },
    {
     "data": {
      "text/html": [
       "<div>\n",
       "<style scoped>\n",
       "    .dataframe tbody tr th:only-of-type {\n",
       "        vertical-align: middle;\n",
       "    }\n",
       "\n",
       "    .dataframe tbody tr th {\n",
       "        vertical-align: top;\n",
       "    }\n",
       "\n",
       "    .dataframe thead th {\n",
       "        text-align: right;\n",
       "    }\n",
       "</style>\n",
       "<table border=\"1\" class=\"dataframe\">\n",
       "  <thead>\n",
       "    <tr style=\"text-align: right;\">\n",
       "      <th></th>\n",
       "      <th>sensor1</th>\n",
       "      <th>sensor2</th>\n",
       "    </tr>\n",
       "  </thead>\n",
       "  <tbody>\n",
       "    <tr>\n",
       "      <th>0</th>\n",
       "      <td>0</td>\n",
       "      <td>0</td>\n",
       "    </tr>\n",
       "    <tr>\n",
       "      <th>1</th>\n",
       "      <td>0</td>\n",
       "      <td>0</td>\n",
       "    </tr>\n",
       "    <tr>\n",
       "      <th>2</th>\n",
       "      <td>0</td>\n",
       "      <td>0</td>\n",
       "    </tr>\n",
       "    <tr>\n",
       "      <th>3</th>\n",
       "      <td>0</td>\n",
       "      <td>0</td>\n",
       "    </tr>\n",
       "    <tr>\n",
       "      <th>4</th>\n",
       "      <td>0</td>\n",
       "      <td>0</td>\n",
       "    </tr>\n",
       "    <tr>\n",
       "      <th>...</th>\n",
       "      <td>...</td>\n",
       "      <td>...</td>\n",
       "    </tr>\n",
       "    <tr>\n",
       "      <th>99995</th>\n",
       "      <td>0</td>\n",
       "      <td>0</td>\n",
       "    </tr>\n",
       "    <tr>\n",
       "      <th>99996</th>\n",
       "      <td>0</td>\n",
       "      <td>0</td>\n",
       "    </tr>\n",
       "    <tr>\n",
       "      <th>99997</th>\n",
       "      <td>0</td>\n",
       "      <td>0</td>\n",
       "    </tr>\n",
       "    <tr>\n",
       "      <th>99998</th>\n",
       "      <td>0</td>\n",
       "      <td>0</td>\n",
       "    </tr>\n",
       "    <tr>\n",
       "      <th>99999</th>\n",
       "      <td>0</td>\n",
       "      <td>0</td>\n",
       "    </tr>\n",
       "  </tbody>\n",
       "</table>\n",
       "<p>100000 rows × 2 columns</p>\n",
       "</div>"
      ],
      "text/plain": [
       "       sensor1  sensor2\n",
       "0            0        0\n",
       "1            0        0\n",
       "2            0        0\n",
       "3            0        0\n",
       "4            0        0\n",
       "...        ...      ...\n",
       "99995        0        0\n",
       "99996        0        0\n",
       "99997        0        0\n",
       "99998        0        0\n",
       "99999        0        0\n",
       "\n",
       "[100000 rows x 2 columns]"
      ]
     },
     "execution_count": 123,
     "metadata": {},
     "output_type": "execute_result"
    }
   ],
   "source": [
    "print(df['sensor1'].unique()) # 0 is DROP DETECTED \n",
    "print(df['sensor2'].unique()) \n",
    "\n",
    "df = df.applymap(lambda x: 1 if x != 0 else 0)\n",
    "print(df['sensor1'].unique()) # 0 is DROP DETECTED \n",
    "print(df['sensor2'].unique()) # 5,4,3,2,1 mapped to 1\n",
    "df = df.applymap(lambda x: 1 if x == 0 else 0)\n",
    "\n",
    "print(df['sensor1'].unique()) # 1 is DROP DETECTED \n",
    "print(df['sensor2'].unique()) \n",
    "df"
   ]
  },
  {
   "cell_type": "code",
   "execution_count": 124,
   "metadata": {},
   "outputs": [
    {
     "data": {
      "text/html": [
       "<div>\n",
       "<style scoped>\n",
       "    .dataframe tbody tr th:only-of-type {\n",
       "        vertical-align: middle;\n",
       "    }\n",
       "\n",
       "    .dataframe tbody tr th {\n",
       "        vertical-align: top;\n",
       "    }\n",
       "\n",
       "    .dataframe thead th {\n",
       "        text-align: right;\n",
       "    }\n",
       "</style>\n",
       "<table border=\"1\" class=\"dataframe\">\n",
       "  <thead>\n",
       "    <tr style=\"text-align: right;\">\n",
       "      <th></th>\n",
       "      <th>sensor1</th>\n",
       "      <th>sensor2</th>\n",
       "      <th>OR</th>\n",
       "    </tr>\n",
       "  </thead>\n",
       "  <tbody>\n",
       "    <tr>\n",
       "      <th>0</th>\n",
       "      <td>0</td>\n",
       "      <td>0</td>\n",
       "      <td>0</td>\n",
       "    </tr>\n",
       "    <tr>\n",
       "      <th>1</th>\n",
       "      <td>0</td>\n",
       "      <td>0</td>\n",
       "      <td>0</td>\n",
       "    </tr>\n",
       "    <tr>\n",
       "      <th>2</th>\n",
       "      <td>0</td>\n",
       "      <td>0</td>\n",
       "      <td>0</td>\n",
       "    </tr>\n",
       "    <tr>\n",
       "      <th>3</th>\n",
       "      <td>0</td>\n",
       "      <td>0</td>\n",
       "      <td>0</td>\n",
       "    </tr>\n",
       "    <tr>\n",
       "      <th>4</th>\n",
       "      <td>0</td>\n",
       "      <td>0</td>\n",
       "      <td>0</td>\n",
       "    </tr>\n",
       "    <tr>\n",
       "      <th>...</th>\n",
       "      <td>...</td>\n",
       "      <td>...</td>\n",
       "      <td>...</td>\n",
       "    </tr>\n",
       "    <tr>\n",
       "      <th>99995</th>\n",
       "      <td>0</td>\n",
       "      <td>0</td>\n",
       "      <td>0</td>\n",
       "    </tr>\n",
       "    <tr>\n",
       "      <th>99996</th>\n",
       "      <td>0</td>\n",
       "      <td>0</td>\n",
       "      <td>0</td>\n",
       "    </tr>\n",
       "    <tr>\n",
       "      <th>99997</th>\n",
       "      <td>0</td>\n",
       "      <td>0</td>\n",
       "      <td>0</td>\n",
       "    </tr>\n",
       "    <tr>\n",
       "      <th>99998</th>\n",
       "      <td>0</td>\n",
       "      <td>0</td>\n",
       "      <td>0</td>\n",
       "    </tr>\n",
       "    <tr>\n",
       "      <th>99999</th>\n",
       "      <td>0</td>\n",
       "      <td>0</td>\n",
       "      <td>0</td>\n",
       "    </tr>\n",
       "  </tbody>\n",
       "</table>\n",
       "<p>95853 rows × 3 columns</p>\n",
       "</div>"
      ],
      "text/plain": [
       "       sensor1  sensor2  OR\n",
       "0            0        0   0\n",
       "1            0        0   0\n",
       "2            0        0   0\n",
       "3            0        0   0\n",
       "4            0        0   0\n",
       "...        ...      ...  ..\n",
       "99995        0        0   0\n",
       "99996        0        0   0\n",
       "99997        0        0   0\n",
       "99998        0        0   0\n",
       "99999        0        0   0\n",
       "\n",
       "[95853 rows x 3 columns]"
      ]
     },
     "execution_count": 124,
     "metadata": {},
     "output_type": "execute_result"
    }
   ],
   "source": [
    "# need time between drops\n",
    "df['OR'] = df['sensor1'] | df['sensor2'] # drop detected\n",
    "df[df['sensor1']==0] # times wehre no drops were detected\n"
   ]
  },
  {
   "cell_type": "code",
   "execution_count": 131,
   "metadata": {},
   "outputs": [
    {
     "data": {
      "image/png": "[encoded data removed]",
      "text/plain": [
       "<Figure size 640x480 with 1 Axes>"
      ]
     },
     "metadata": {},
     "output_type": "display_data"
    }
   ],
   "source": [
    "plt.plot(df['OR'])\n",
    "plt.show()"
   ]
  },
  {
   "cell_type": "code",
   "execution_count": 127,
   "metadata": {},
   "outputs": [
    {
     "name": "stdout",
     "output_type": "stream",
     "text": [
      "[1110, 1111, 1107, 1106, 1111, 1113, 1110, 1111, 1110, 1106, 1110, 1108, 1107, 1108, 1111, 1110, 1112, 1111, 1109, 1109, 1110, 1111, 1108, 1108, 1110, 1107, 1109, 1109, 1109, 1107, 1111, 1106, 1107, 1106, 1111, 1109, 1107, 1110, 1107, 1109, 1109, 1109, 1108, 1105, 1108, 1107, 1109, 1108, 1104, 1105, 1108, 1110, 1105, 1108, 1108, 1109, 1106, 1108, 1109, 1108, 1110, 1108, 1111, 1107, 1111, 1107, 1110, 1111, 1108, 1110, 1109, 1111, 1108, 1109, 1106, 1109, 1110, 1111, 1107, 1105, 1105, 1110, 1109, 1108, 1108]\n",
      "85\n",
      "85\n"
     ]
    },
    {
     "data": {
      "text/plain": [
       "Text(0, 0.5, 'periods[i+1]')"
      ]
     },
     "execution_count": 127,
     "metadata": {},
     "output_type": "execute_result"
    },
    {
     "data": {
      "image/png": "[encoded data removed]",
      "text/plain": [
       "<Figure size 640x480 with 1 Axes>"
      ]
     },
     "metadata": {},
     "output_type": "display_data"
    }
   ],
   "source": [
    "l = df['OR'].tolist() # list of 0s and 1s\n",
    "# l = [0,0,0,0,0,0,1,1,1,0,0,0,0,0,1,1,0,0,0,0,0,0,0,0,1,1,0,1]\n",
    "\n",
    "periods = []\n",
    "count_between_drop = 0\n",
    "\n",
    "first_drop = l.index(1) # start at first occurrence of a drop\n",
    "for i in range(first_drop, len(l)):\n",
    "    if l[i] == 1 and count_between_drop != 0: # no drop detected AND count between drop != 0\n",
    "        periods.append(count_between_drop)\n",
    "        count_between_drop = 0\n",
    "    if l[i] == 0: # no drop detected\n",
    "        count_between_drop += 1 \n",
    "            \n",
    "print(periods)\n",
    "f = 10000\n",
    "print(len(periods))\n",
    "periods = np.array(periods)*1/f # seconds\n",
    "print(len(periods))\n",
    "\n",
    "plt.scatter(periods[0:-1], periods[1:])\n",
    "plt.xlabel('periods[i]')\n",
    "plt.ylabel('periods[i+1]')\n",
    "# plt.xlim(0,0.6)\n",
    "# plt.ylim(0,0.6)"
   ]
  },
  {
   "cell_type": "code",
   "execution_count": null,
   "metadata": {},
   "outputs": [],
   "source": []
  },
  {
   "cell_type": "markdown",
   "metadata": {},
   "source": [
    "## ANALYSIS"
   ]
  },
  {
   "cell_type": "code",
   "execution_count": 178,
   "metadata": {},
   "outputs": [],
   "source": [
    "from matplotlib.ticker import StrMethodFormatter\n",
    "\n",
    "def analysis(file, fr, freq=10000, mute_period=False, xzoom=1, yzoom=1):\n",
    "    \"\"\"\n",
    "    Given a file of sensor data and flow rate fr, \n",
    "    create Poincare section plots\n",
    "    \"\"\"\n",
    "    df = pd.read_csv(file, sep=',', header=None)\n",
    "    df.columns = ['sensor1', 'sensor2']\n",
    "    print('Initial unique values of sensors')\n",
    "    print(f'Sensor 1: {df[\"sensor1\"].unique()}') # 0 is DROP DETECTED \n",
    "    print(f'Sensor 2: {df[\"sensor2\"].unique()}')\n",
    "    print(f'Transformation: nonzero -> 1')\n",
    "    df = df.applymap(lambda x: 1 if x != 0 else 0)\n",
    "    print(f'Sensor 1: {df[\"sensor1\"].unique()}') # 0 is DROP DETECTED \n",
    "    print(f'Sensor 2: {df[\"sensor2\"].unique()}') # 5,4,3,2,1 mapped to 1\n",
    "    print(f'Transformation: Switch 0s and 1s')\n",
    "    df = df.applymap(lambda x: 1 if x == 0 else 0)\n",
    "    print(f'Sensor 1: {df[\"sensor1\"].unique()}') # 1 is DROP DETECTED \n",
    "    print(f'Sensor 2: {df[\"sensor2\"].unique()}')\n",
    "\n",
    "    # OR Gate\n",
    "    df['OR'] = df['sensor1'] | df['sensor2'] # detecting drops in either sensor\n",
    "\n",
    "    if not mute_period:\n",
    "        plt.figure()\n",
    "        plt.title(\"Visualization of Periods\")\n",
    "        plt.plot(df['OR'])\n",
    "        plt.xlabel('Time step')\n",
    "        plt.ylabel('1 or 0')\n",
    "\n",
    "    l = df['OR'].tolist() # list of 0s and 1s\n",
    "\n",
    "    # counting time between drops\n",
    "    periods = []\n",
    "    count_between_drop = 0\n",
    "\n",
    "    first_drop = l.index(1) # start at first occurrence of a drop\n",
    "    for i in range(first_drop, len(l)):\n",
    "        if l[i] == 1 and count_between_drop != 0: # no drop detected AND count between drop != 0\n",
    "            periods.append(count_between_drop)\n",
    "            count_between_drop = 0\n",
    "        if l[i] == 0: # no drop detected\n",
    "            count_between_drop += 1 \n",
    "\n",
    "    periods = np.array(periods)*1/freq # convert to seconds\n",
    "\n",
    "    fig, ax = plt.subplots()\n",
    "    ax.set_title(f'Poincare Section Plots (Flow Rate: {fr:.2f}g/min)')\n",
    "    ax.scatter(periods[0:-1], periods[1:])\n",
    "    ax.set_xlabel('$T_{n} (s)$')\n",
    "    ax.set_ylabel('$T_{n+1} (s)$')\n",
    "    ax.xaxis.set_major_formatter(StrMethodFormatter(f'{{x:.3f}}'))\n",
    "    ax.yaxis.set_major_formatter(StrMethodFormatter(f'{{x:.3f}}'))\n",
    "\n",
    "    ax.set_xlim(0,xzoom)\n",
    "    ax.set_ylim(0,yzoom)\n",
    "    \n"
   ]
  },
  {
   "cell_type": "code",
   "execution_count": 176,
   "metadata": {},
   "outputs": [
    {
     "name": "stdout",
     "output_type": "stream",
     "text": [
      "Initial unique values of sensors\n",
      "Sensor 1: [5 0 3 4]\n",
      "Sensor 2: [5 0 4 1]\n",
      "Transformation: nonzero -> 1\n",
      "Sensor 1: [1 0]\n",
      "Sensor 2: [1 0]\n",
      "Transformation: Switch 0s and 1s\n"
     ]
    },
    {
     "name": "stdout",
     "output_type": "stream",
     "text": [
      "Sensor 1: [0 1]\n",
      "Sensor 2: [0 1]\n"
     ]
    },
    {
     "data": {
      "image/png": "[encoded data removed]",
      "text/plain": [
       "<Figure size 640x480 with 1 Axes>"
      ]
     },
     "metadata": {},
     "output_type": "display_data"
    }
   ],
   "source": [
    "analysis('test3.txt', fr=24.2513, mute_period=True)"
   ]
  },
  {
   "cell_type": "code",
   "execution_count": 180,
   "metadata": {},
   "outputs": [
    {
     "name": "stdout",
     "output_type": "stream",
     "text": [
      "Initial unique values of sensors\n",
      "Sensor 1: [5 0 4 2 3 1]\n",
      "Sensor 2: [5 0 4 2 3 1]\n",
      "Transformation: nonzero -> 1\n",
      "Sensor 1: [1 0]\n",
      "Sensor 2: [1 0]\n",
      "Transformation: Switch 0s and 1s\n",
      "Sensor 1: [0 1]\n",
      "Sensor 2: [0 1]\n"
     ]
    },
    {
     "data": {
      "image/png": "[encoded data removed]",
      "text/plain": [
       "<Figure size 640x480 with 1 Axes>"
      ]
     },
     "metadata": {},
     "output_type": "display_data"
    }
   ],
   "source": [
    "analysis('test5.txt', fr=0.1413*60, mute_period=True, xzoom=0.25, yzoom=0.25)"
   ]
  },
  {
   "cell_type": "code",
   "execution_count": null,
   "metadata": {},
   "outputs": [],
   "source": []
  }
 ],
 "metadata": {
  "kernelspec": {
   "display_name": "quant-mc",
   "language": "python",
   "name": "python3"
  },
  "language_info": {
   "codemirror_mode": {
    "name": "ipython",
    "version": 3
   },
   "file_extension": ".py",
   "mimetype": "text/x-python",
   "name": "python",
   "nbconvert_exporter": "python",
   "pygments_lexer": "ipython3",
   "version": "3.11.4"
  }
 },
 "nbformat": 4,
 "nbformat_minor": 2
}
